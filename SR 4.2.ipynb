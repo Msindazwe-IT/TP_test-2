{
 "cells": [
  {
   "cell_type": "markdown",
   "id": "12ffc6ab-312a-4136-bcca-212ca4b0cb64",
   "metadata": {},
   "source": [
    "The fastest searching algorithm is binary search.\n",
    "It divides search interval in half and compares them.\n",
    "It searches the entire list."
   ]
  },
  {
   "cell_type": "code",
   "execution_count": 4,
   "id": "62b7234f-4c8a-4b5a-b3de-fc17bf409faa",
   "metadata": {},
   "outputs": [],
   "source": [
    "import pandas as pd"
   ]
  },
  {
   "cell_type": "code",
   "execution_count": 5,
   "id": "f544810d-e8d5-4a18-8d07-ae3af0d35e8f",
   "metadata": {},
   "outputs": [],
   "source": [
    "informal = pd.read_csv(\"C:/Users/User/Downloads/barragan.csv\")"
   ]
  },
  {
   "cell_type": "code",
   "execution_count": 6,
   "id": "a30ff3c5-8fe1-49f2-bcd0-68e3c7fa3ec6",
   "metadata": {},
   "outputs": [],
   "source": [
    "nums = [n for n in informal[\"structure_count\"].tail()]"
   ]
  },
  {
   "cell_type": "code",
   "execution_count": 12,
   "id": "4e85cb1a-6343-4587-b2b6-8b95c9e96751",
   "metadata": {},
   "outputs": [
    {
     "name": "stdout",
     "output_type": "stream",
     "text": [
      "Not Found in lisT\n"
     ]
    }
   ],
   "source": [
    "def search(nums, i):\n",
    "    i = 0\n",
    "    while(i< len(nums)):\n",
    "        if nums[i] == i:\n",
    "            return True\n",
    "        i = i + 1\n",
    "        return False\n",
    "\n",
    "i = 50\n",
    "if search(nums, i):\n",
    "    print(\"Found in list\")\n",
    "else:\n",
    "    print(\"Not Found in lisT\")"
   ]
  }
 ],
 "metadata": {
  "kernelspec": {
   "display_name": "Python 3 (ipykernel)",
   "language": "python",
   "name": "python3"
  },
  "language_info": {
   "codemirror_mode": {
    "name": "ipython",
    "version": 3
   },
   "file_extension": ".py",
   "mimetype": "text/x-python",
   "name": "python",
   "nbconvert_exporter": "python",
   "pygments_lexer": "ipython3",
   "version": "3.12.3"
  }
 },
 "nbformat": 4,
 "nbformat_minor": 5
}
