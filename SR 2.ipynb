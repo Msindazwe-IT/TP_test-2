{
 "cells": [
  {
   "cell_type": "code",
   "execution_count": 19,
   "id": "9d38432a-6e67-4cc3-af58-843e19e9e4e0",
   "metadata": {},
   "outputs": [],
   "source": [
    "import numpy as np\n",
    "import pandas as pd\n",
    "import matplotlib.pyplot as plt\n"
   ]
  },
  {
   "cell_type": "code",
   "execution_count": 8,
   "id": "08d2e1ea-b695-4b33-98c2-cd067bc7af4a",
   "metadata": {},
   "outputs": [],
   "source": [
    "informal = pd.read_csv(\"C:/Users/User/Downloads/barragan.csv\")"
   ]
  },
  {
   "cell_type": "code",
   "execution_count": 5,
   "id": "cd5cacbb-67ac-48c5-8e10-29f85fc5f5f5",
   "metadata": {},
   "outputs": [
    {
     "data": {
      "text/plain": [
       "9548"
      ]
     },
     "execution_count": 5,
     "metadata": {},
     "output_type": "execute_result"
    }
   ],
   "source": [
    "informal.size"
   ]
  },
  {
   "cell_type": "code",
   "execution_count": 6,
   "id": "04b72d6f-e296-4650-8a7a-b54869ba32bf",
   "metadata": {},
   "outputs": [
    {
     "data": {
      "text/plain": [
       "is_cluster                  object\n",
       "pocket_name                 object\n",
       "pocket_alias                object\n",
       "ward_id                      int64\n",
       "ward_councillor             object\n",
       "avg_hhsize                 float64\n",
       "area_ha                    float64\n",
       "density_dwellings          float64\n",
       "structure_count              int64\n",
       "age_of_is                   object\n",
       "upgrade_category            object\n",
       "temp_sanitation            float64\n",
       "toilets_full_flush         float64\n",
       "toilets_chemical           float64\n",
       "toilets_portable           float64\n",
       "toilets_container          float64\n",
       "toilets_other              float64\n",
       "toilets_total              float64\n",
       "ratio_toilets_dwellings     object\n",
       "pocket_code                 object\n",
       "centroidx                  float64\n",
       "centroidy                  float64\n",
       "dtype: object"
      ]
     },
     "execution_count": 6,
     "metadata": {},
     "output_type": "execute_result"
    }
   ],
   "source": [
    "informal.dtypes"
   ]
  },
  {
   "cell_type": "markdown",
   "id": "2ac6409c-85fb-4b9f-a473-769c9e2c2384",
   "metadata": {},
   "source": [
    "There are three types of data types that are in this dataset.\n",
    "object, float64,int64"
   ]
  }
 ],
 "metadata": {
  "kernelspec": {
   "display_name": "Python 3 (ipykernel)",
   "language": "python",
   "name": "python3"
  },
  "language_info": {
   "codemirror_mode": {
    "name": "ipython",
    "version": 3
   },
   "file_extension": ".py",
   "mimetype": "text/x-python",
   "name": "python",
   "nbconvert_exporter": "python",
   "pygments_lexer": "ipython3",
   "version": "3.12.3"
  }
 },
 "nbformat": 4,
 "nbformat_minor": 5
}
