{
 "cells": [
  {
   "cell_type": "code",
   "execution_count": 7,
   "id": "5fba18bc-c50c-468b-8c6d-08c03ef46172",
   "metadata": {},
   "outputs": [],
   "source": [
    "import pandas as pd"
   ]
  },
  {
   "cell_type": "code",
   "execution_count": 8,
   "id": "b8d08078-a5aa-4996-9c49-dcb0cc9ab925",
   "metadata": {},
   "outputs": [],
   "source": [
    "informal = pd.read_csv(\"C:/Users/User/Downloads/barragan.csv\")"
   ]
  },
  {
   "cell_type": "code",
   "execution_count": 12,
   "id": "4ca24111-39ad-437c-9408-0d9284d60a5b",
   "metadata": {},
   "outputs": [],
   "source": [
    "nums= [n for n in informal[\"structure_count\"].tail()]\n",
    "def b_sort(nums):\n",
    "    for i in range(len(nums)-1,0,-1):\n",
    "        for j in range(i):\n",
    "            if (nums[j]>nums[j+1]):\n",
    "                temp=nums[j]\n",
    "                nums[j]=nums[j+1]\n",
    "                nums[j+1]=temp"
   ]
  },
  {
   "cell_type": "code",
   "execution_count": 15,
   "id": "22735285-f971-438e-9c5d-ec41b71dff8a",
   "metadata": {},
   "outputs": [
    {
     "name": "stdout",
     "output_type": "stream",
     "text": [
      "[24, 27, 42, 53, 272]\n"
     ]
    }
   ],
   "source": [
    "b_sort(nums)\n",
    "print(nums)"
   ]
  }
 ],
 "metadata": {
  "kernelspec": {
   "display_name": "Python 3 (ipykernel)",
   "language": "python",
   "name": "python3"
  },
  "language_info": {
   "codemirror_mode": {
    "name": "ipython",
    "version": 3
   },
   "file_extension": ".py",
   "mimetype": "text/x-python",
   "name": "python",
   "nbconvert_exporter": "python",
   "pygments_lexer": "ipython3",
   "version": "3.12.3"
  }
 },
 "nbformat": 4,
 "nbformat_minor": 5
}
